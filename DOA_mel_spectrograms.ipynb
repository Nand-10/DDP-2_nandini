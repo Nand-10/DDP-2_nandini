{
  "nbformat": 4,
  "nbformat_minor": 0,
  "metadata": {
    "colab": {
      "provenance": []
    },
    "kernelspec": {
      "name": "python3",
      "display_name": "Python 3"
    },
    "language_info": {
      "name": "python"
    }
  },
  "cells": [
    {
      "cell_type": "code",
      "execution_count": 1,
      "metadata": {
        "colab": {
          "base_uri": "https://localhost:8080/"
        },
        "id": "TjHuVtpctd8e",
        "outputId": "733afb97-144d-4326-fa78-13cb4f7515e0"
      },
      "outputs": [
        {
          "output_type": "stream",
          "name": "stdout",
          "text": [
            "Mounted at /content/drive\n"
          ]
        }
      ],
      "source": [
        "from google.colab import drive\n",
        "drive.mount('/content/drive')"
      ]
    },
    {
      "cell_type": "code",
      "source": [
        "import os\n",
        "import math\n",
        "import pandas as pd\n",
        "from PIL import Image\n",
        "import torch\n",
        "import torch.nn as nn\n",
        "import torch.optim as optim\n",
        "from torch.utils.data import Dataset, DataLoader\n",
        "import torchvision.transforms as transforms"
      ],
      "metadata": {
        "id": "qvWcp5O-tj5g"
      },
      "execution_count": null,
      "outputs": []
    },
    {
      "cell_type": "code",
      "source": [
        "# Load metadata\n",
        "metadata_path = \"/content/drive/MyDrive/ddp/gunshot-audio-all-metadata.csv\"\n",
        "data_dir = \"/content/drive/MyDrive/ddp/ALL_gunshot\"\n",
        "metadata_df = pd.read_csv(metadata_path)\n",
        "# Confirm type\n",
        "print(type(metadata_df))"
      ],
      "metadata": {
        "id": "BTXcLFLOtuLs"
      },
      "execution_count": null,
      "outputs": []
    },
    {
      "cell_type": "code",
      "source": [
        "import os\n",
        "import pandas as pd\n",
        "\n",
        "# Filter for MiniDSP UMA-8 and Raspberry Pi\n",
        "filtered_df = metadata_df[\n",
        "    (metadata_df[\"microphone\"].str.contains(\"MiniDSP UMA-8\", na=False)) &\n",
        "    (metadata_df[\"device_manufacturer\"].str.contains(\"Raspberry Pi\", na=False))\n",
        "]\n",
        "\n",
        "# Drop duplicates to get unique UUIDs\n",
        "filtered_uuids_df = filtered_df.drop_duplicates(subset=[\"uuid\"])\n",
        "uuid_list = filtered_uuids_df[\"uuid\"].unique().tolist()\n",
        "\n",
        "# Function to check presence of all 7 audio files\n",
        "def get_valid_uuids_with_all_channels(uuid_list, data_dir):\n",
        "    valid_uuids = []\n",
        "    for uuid in uuid_list:\n",
        "        all_exist = True\n",
        "        for i in range(7):\n",
        "            file_path = os.path.join(data_dir, f\"{uuid}_chan{i}_v0.wav\")\n",
        "            if not os.path.exists(file_path):\n",
        "                all_exist = False\n",
        "                break\n",
        "        if all_exist:\n",
        "            valid_uuids.append(uuid)\n",
        "    return valid_uuids\n",
        "\n",
        "# Get the UUIDs with all 7 audio channels\n",
        "valid_uuids = get_valid_uuids_with_all_channels(uuid_list, data_dir)\n",
        "\n",
        "# Keep all rows (all channels) for valid UUIDs\n",
        "filtered_metadata_all_channels = metadata_df[metadata_df['uuid'].isin(valid_uuids)]\n",
        "\n",
        "# Save full rows per UUID\n",
        "output_path = \"/content/drive/MyDrive/ddp/filtered_metadata_156_all_channels.csv\"\n",
        "filtered_metadata_all_channels.to_csv(output_path, index=False)\n",
        "\n",
        "print(f\"Saved full channel metadata for {len(filtered_metadata_all_channels)} rows.\")\n"
      ],
      "metadata": {
        "id": "7Va4vHHvDibA"
      },
      "execution_count": null,
      "outputs": []
    },
    {
      "cell_type": "code",
      "source": [
        "import pandas as pd\n",
        "import os\n",
        "\n",
        "# Load metadata CSV\n",
        "csv_path = \"/content/drive/MyDrive/ddp/filtered_metadata_156_all_channels.csv\"\n",
        "data_dir = \"/content/drive/MyDrive/ddp/ALL_gunshot\"\n",
        "metadata = pd.read_csv(csv_path)\n",
        "\n",
        "# Check if all 7-channel WAV files exist\n",
        "def has_all_channels(uuid, data_dir, num_channels=7):\n",
        "    return all(os.path.exists(os.path.join(data_dir, f\"{uuid}_chan{i}_v0.wav\")) for i in range(num_channels))\n",
        "\n",
        "# Filter to UUIDs with all files\n",
        "metadata = metadata[metadata[\"uuid\"].apply(lambda u: has_all_channels(u, data_dir))]\n",
        "uuids = metadata[\"uuid\"].unique()\n"
      ],
      "metadata": {
        "id": "RTO5ZU4sXeM0"
      },
      "execution_count": null,
      "outputs": []
    },
    {
      "cell_type": "code",
      "source": [
        "import os\n",
        "import numpy as np\n",
        "import pandas as pd\n",
        "import soundfile as sf\n",
        "import librosa\n",
        "import matplotlib.pyplot as plt\n",
        "from PIL import Image\n",
        "\n",
        "# Paths\n",
        "metadata_csv = \"/content/drive/MyDrive/ddp/filtered_metadata_156_all_channels.csv\"\n",
        "audio_dir = \"/content/drive/MyDrive/ddp/ALL_gunshot\"\n",
        "output_dir = \"/content/drive/MyDrive/ddp/mel-spectrograms\"\n",
        "\n",
        "# Load metadata CSV to get list of filenames\n",
        "metadata = pd.read_csv(metadata_csv)\n",
        "filenames = metadata[metadata[\"filename\"].str.contains('_chan')][\"filename\"].astype(str).tolist()\n",
        "  # ensure they are strings\n",
        "\n",
        "# Create output directory if it doesn't exist\n",
        "os.makedirs(output_dir, exist_ok=True)\n",
        "\n",
        "# Process each audio file\n",
        "for fname in filenames:\n",
        "    # Construct full file path (assuming .wav extension if not present)\n",
        "    audio_path = os.path.join(audio_dir, fname if fname.lower().endswith(\".wav\") else fname + \".wav\")\n",
        "    if not os.path.isfile(audio_path):\n",
        "        print(f\"File not found: {audio_path} - skipping.\")\n",
        "        continue\n",
        "    try:\n",
        "        # Load audio file (mono)\n",
        "        y, sr = sf.read(audio_path)  # y is a 1D numpy array, sr is sample rate:contentReference[oaicite:7]{index=7}\n",
        "    except Exception as e:\n",
        "        print(f\"Error reading {audio_path}: {e}\")\n",
        "        continue\n",
        "    if y.ndim > 1:\n",
        "        # In case of multi-channel (should not happen for mono files), take first channel\n",
        "        y = y[:, 0]\n",
        "\n",
        "    # Ensure audio is a NumPy array (soundfile returns numpy array already)\n",
        "    y = np.array(y, dtype=float)\n",
        "    # Handle empty or very short files\n",
        "    if y.size == 0:\n",
        "        print(f\"Warning: {fname} is empty, skipping.\")\n",
        "        continue\n",
        "\n",
        "    # Detect first gunshot peak (first large amplitude spike)\n",
        "    abs_y = np.abs(y)\n",
        "    max_val = abs_y.max()\n",
        "    if max_val <= 1e-6:\n",
        "        # Very low signal (almost silent)\n",
        "        print(f\"Warning: {fname} has near-zero signal.\")\n",
        "        peak_index = 0\n",
        "    else:\n",
        "        # Set threshold as a fraction of max amplitude (e.g., 20%)\n",
        "        threshold = 0.2 * max_val\n",
        "        peak_index = None\n",
        "        # Find first index that is a local max above threshold:contentReference[oaicite:8]{index=8}\n",
        "        for i in range(1, len(y) - 1):\n",
        "            if abs_y[i] > threshold and abs_y[i] > abs_y[i-1] and abs_y[i] > abs_y[i+1]:\n",
        "                peak_index = i\n",
        "                break\n",
        "        # If no peak above threshold found, use the index of global maximum\n",
        "        if peak_index is None:\n",
        "            peak_index = int(np.argmax(abs_y))\n",
        "    # peak_index now holds the index of the first gunshot peak\n",
        "\n",
        "    # Define 2-second segment around the peak\n",
        "    segment_duration = 2  # seconds\n",
        "    target_length = int(round(segment_duration * sr))  # number of samples in 2 seconds\n",
        "    start_idx = peak_index - target_length // 2\n",
        "    end_idx = start_idx + target_length\n",
        "    # Adjust if out of bounds\n",
        "    if start_idx < 0:\n",
        "        start_pad = -start_idx\n",
        "        start_idx = 0\n",
        "    else:\n",
        "        start_pad = 0\n",
        "    if end_idx > len(y):\n",
        "        end_pad = end_idx - len(y)\n",
        "        end_idx = len(y)\n",
        "    else:\n",
        "        end_pad = 0\n",
        "\n",
        "    # Extract the segment and pad with zeros if needed\n",
        "    segment = y[start_idx:end_idx]\n",
        "    if start_pad or end_pad:\n",
        "        segment = np.pad(segment, (start_pad, end_pad), mode='constant', constant_values=0)\n",
        "    # Now, `segment` is a 2-second audio clip centered (as much as possible) on the peak\n",
        "\n",
        "    # Generate Mel spectrogram for the segment\n",
        "    mel_spect = librosa.feature.melspectrogram(y=segment, sr=sr, n_mels=128, fmax=sr/2)\n",
        "    mel_spect_db = librosa.power_to_db(mel_spect, ref=np.max)  # convert to dB scale:contentReference[oaicite:9]{index=9}\n",
        "\n",
        "# Normalize to [0, 255] for image saving\n",
        "    mel_min = mel_spect_db.min()\n",
        "    mel_max = mel_spect_db.max()\n",
        "    mel_spect_norm = (mel_spect_db - mel_min) / (mel_max - mel_min + 1e-6)\n",
        "    mel_spect_img = (mel_spect_norm * 255).astype(np.uint8)\n",
        "\n",
        "# Save the spectrogram as a PNG using PIL (grayscale)\n",
        "    output_path = os.path.join(\n",
        "        output_dir, os.path.splitext(os.path.basename(audio_path))[0] + \".png\"\n",
        "    )\n",
        "    Image.fromarray(mel_spect_img).save(output_path)"
      ],
      "metadata": {
        "id": "Mku3n67O_QXD"
      },
      "execution_count": null,
      "outputs": []
    },
    {
      "cell_type": "code",
      "source": [],
      "metadata": {
        "id": "R0yjtvLtuM8u"
      },
      "execution_count": null,
      "outputs": []
    }
  ]
}