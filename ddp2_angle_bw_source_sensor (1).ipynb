{
  "cells": [
    {
      "cell_type": "code",
      "execution_count": null,
      "metadata": {
        "colab": {
          "base_uri": "https://localhost:8080/"
        },
        "id": "LCydaDhRAZWf",
        "outputId": "87843997-b14e-41a4-c44f-2bd6dfd2d815"
      },
      "outputs": [
        {
          "name": "stdout",
          "output_type": "stream",
          "text": [
            "Mounted at /content/drive\n"
          ]
        }
      ],
      "source": [
        "from google.colab import drive\n",
        "drive.mount('/content/drive')"
      ]
    },
    {
      "cell_type": "code",
      "execution_count": null,
      "metadata": {
        "id": "g08zwpVZAc8G"
      },
      "outputs": [],
      "source": [
        "import os, re, json\n",
        "from pathlib import Path\n",
        "import numpy as np\n",
        "import pandas as pd\n",
        "import soundfile as sf\n",
        "from pyproj import Transformer\n",
        "from scipy.signal import butter, sosfilt, find_peaks\n",
        "from scipy.optimize import least_squares\n",
        "import matplotlib.pyplot as plt\n",
        "from tqdm import tqdm"
      ]
    },
    {
      "cell_type": "code",
      "execution_count": null,
      "metadata": {
        "id": "s8v9DsFbAz7P"
      },
      "outputs": [],
      "source": [
        "# Load metadata\n",
        "metadata_df = \"/content/drive/MyDrive/ddp/gunshot-audio-all-metadata.csv\"\n",
        "data_dir = \"/content/drive/MyDrive/ddp/ALL_gunshot\"\n",
        "#df = pd.read_csv(METADATA)"
      ]
    },
    {
      "cell_type": "code",
      "execution_count": null,
      "metadata": {
        "colab": {
          "base_uri": "https://localhost:8080/"
        },
        "id": "j7n-1RKDiffB",
        "outputId": "44ec6c09-5f1a-4286-a96b-60dd5bc143af"
      },
      "outputs": [
        {
          "name": "stdout",
          "output_type": "stream",
          "text": [
            "Bearing (in degrees) from source to each sensor:\n",
            "P1: 203.62°\n",
            "P17: 3.31°\n",
            "P19: 257.02°\n",
            "P20: 294.73°\n",
            "P21: 157.56°\n",
            "P18: 326.16°\n",
            "P16: 76.68°\n"
          ]
        }
      ],
      "source": [
        "import math\n",
        "\n",
        "def calculate_bearing(lat1, lon1, lat2, lon2):\n",
        "    \"\"\"\n",
        "    Calculates the bearing from (lat1, lon1) to (lat2, lon2) in degrees.\n",
        "    \"\"\"\n",
        "    lat1_rad = math.radians(lat1)\n",
        "    lat2_rad = math.radians(lat2)\n",
        "    diff_long_rad = math.radians(lon2 - lon1)\n",
        "\n",
        "    x = math.sin(diff_long_rad) * math.cos(lat2_rad)\n",
        "    y = math.cos(lat1_rad) * math.sin(lat2_rad) - \\\n",
        "        math.sin(lat1_rad) * math.cos(lat2_rad) * math.cos(diff_long_rad)\n",
        "\n",
        "    initial_bearing = math.atan2(x, y)\n",
        "    bearing_degrees = (math.degrees(initial_bearing) + 360) % 360\n",
        "\n",
        "    return bearing_degrees\n",
        "\n",
        "# Source coordinates\n",
        "source_latlon = (28.34214, -80.78145)\n",
        "\n",
        "# Sensor coordinates\n",
        "latlon_coords = {\n",
        "    \"P1\":  (28.34143687, -80.7817993),\n",
        "    \"P17\": (28.3425767,  -80.78142127),\n",
        "    \"P19\": (28.34206505, -80.78181943),\n",
        "    \"P20\": (28.34247681, -80.78228106),\n",
        "    \"P21\": (28.34141824, -80.78111133),\n",
        "    \"P18\": (28.34235, -80.78161),\n",
        "    \"P16\": (28.34219, -80.78121)\n",
        "}\n",
        "\n",
        "# Calculate and print bearings\n",
        "print(\"Bearing (in degrees) from source to each sensor:\")\n",
        "for name, (lat, lon) in latlon_coords.items():\n",
        "    bearing = calculate_bearing(source_latlon[0], source_latlon[1], lat, lon)\n",
        "    print(f\"{name}: {bearing:.2f}°\")\n"
      ]
    },
    {
      "cell_type": "code",
      "execution_count": null,
      "metadata": {
        "id": "DbuYI63rDC7O"
      },
      "outputs": [],
      "source": [
        "# Utility to compute bearing (true theta)\n",
        "def calculate_bearing(lat1, lon1, lat2, lon2):\n",
        "    lat1_rad, lat2_rad = math.radians(lat1), math.radians(lat2)\n",
        "    delta_lon = math.radians(lon2 - lon1)\n",
        "    x = math.sin(delta_lon) * math.cos(lat2_rad)\n",
        "    y = math.cos(lat1_rad)*math.sin(lat2_rad) - math.sin(lat1_rad)*math.cos(lat2_rad)*math.cos(delta_lon)\n",
        "    bearing = math.atan2(x, y)\n",
        "    return bearing % (2 * math.pi)\n",
        "\n",
        "# Load 7 mono-channel WAV files for a given UUID (e.g., 'P1')\n",
        "def load_mic_signals(data_dir, uuid):\n",
        "    mic_signals = []\n",
        "    for i in range(n_mics):\n",
        "        filepath = os.path.join(data_dir, f\"{uuid}_mic{i}.wav\")\n",
        "        sig, fs = sf.read(filepath)\n",
        "        assert fs == device_fs, \"Sampling rate mismatch\"\n",
        "        mic_signals.append(sig)\n",
        "    return np.array(mic_signals)\n",
        "\n",
        "# Run CICS DOA estimation for a single device\n",
        "def estimate_doa_CICS(mic_signals, fs, theta_true_rad):\n",
        "    # STFT\n",
        "    _, _, Zxx = stft(mic_signals, fs=fs, nperseg=n_fft, axis=-1)\n",
        "    f_axis = np.fft.rfftfreq(n_fft, 1/fs)\n",
        "    f_bin = np.argmin(np.abs(f_axis - target_freq))\n",
        "    frame_idx = 100  # You may average across more frames\n",
        "\n",
        "    # Extract frequency component\n",
        "    X = Zxx[:, f_bin, frame_idx]  # shape: (7,)\n",
        "\n",
        "    # Scan across DOA hypotheses\n",
        "    theta_scan = np.linspace(0, 2*np.pi, 360)\n",
        "    CICS = []\n",
        "\n",
        "    for phi in theta_scan:\n",
        "        sum_g = 0\n",
        "        for i in range(n_mics):\n",
        "            tau_phi = (R * np.sin(phi + i * alpha)) / c\n",
        "            g_model = np.exp(-1j * 2 * np.pi * target_freq * tau_phi)\n",
        "            g_meas = X[i] / np.abs(X[i])  # normalized phase\n",
        "            sum_g += g_meas * g_model\n",
        "        CICS.append(np.abs(sum_g))\n",
        "\n",
        "    # Get estimated DOA\n",
        "    theta_hat_idx = np.argmax(CICS)\n",
        "    theta_hat_rad = theta_scan[theta_hat_idx]\n",
        "\n",
        "    # Plot\n",
        "    plt.figure()\n",
        "    plt.plot(np.degrees(theta_scan), CICS)\n",
        "    plt.axvline(np.degrees(theta_true_rad), color='g', linestyle='--', label=\"True θ\")\n",
        "    plt.axvline(np.degrees(theta_hat_rad), color='r', linestyle='--', label=\"Estimated θ̂\")\n",
        "    plt.title(\"DOA Estimation (CICS)\")\n",
        "    plt.xlabel(\"θ̂ (degrees)\")\n",
        "    plt.ylabel(\"CICS magnitude\")\n",
        "    plt.legend()\n",
        "    plt.grid(True)\n",
        "    plt.show()\n",
        "\n",
        "    return theta_hat_rad"
      ]
    },
    {
      "cell_type": "code",
      "execution_count": null,
      "metadata": {
        "colab": {
          "base_uri": "https://localhost:8080/",
          "height": 70
        },
        "id": "RM88Fx2uEIix",
        "outputId": "04163471-5fd2-4953-d6f9-9fda330faa6b"
      },
      "outputs": [
        {
          "data": {
            "application/vnd.google.colaboratory.intrinsic+json": {
              "type": "string"
            },
            "text/plain": [
              "' plt.figure()\\n    plt.plot(np.degrees(theta_scan), CICS)\\n    plt.axvline(np.degrees(theta_true_rad), color=\\'g\\', linestyle=\\'--\\', label=\"True θ\")\\n    plt.axvline(np.degrees(theta_hat_rad), color=\\'r\\', linestyle=\\'--\\', label=\"Estimated θ̂\")\\n    plt.title(\"DOA Estimation (CICS)\")\\n    plt.xlabel(\"θ̂ (degrees)\")\\n    plt.ylabel(\"CICS magnitude\")\\n    plt.legend()\\n    plt.grid(True)\\n    plt.show()\\n\\n    return theta_hat_rad'"
            ]
          },
          "execution_count": 6,
          "metadata": {},
          "output_type": "execute_result"
        }
      ],
      "source": [
        "import numpy as np\n",
        "import soundfile as sf\n",
        "from scipy.signal import stft\n",
        "import os\n",
        "import math\n",
        "import matplotlib.pyplot as plt\n",
        "\n",
        "# === Constants ===\n",
        "c = 343.0            # Speed of sound in m/s\n",
        "n_mics = 7           # MiniDSP UMA-8\n",
        "R = 0.04             # Radius in meters\n",
        "alpha = 2 * np.pi / n_mics\n",
        "n_fft = 1024\n",
        "target_freq = 3400   # Frequency for DOA estimation\n",
        "device_fs = 44100    # Sampling rate (Hz)\n",
        "frame_idx = 200     # STFT frame index to use (adjust if needed)\n",
        "\n",
        "# === Source location ===\n",
        "source_latlon = (28.34214, -80.78145)\n",
        "\n",
        "# === Known sensor positions ===\n",
        "latlon_coords = {\n",
        "    \"P1\":  (28.34143687, -80.7817993),\n",
        "    \"P17\": (28.3425767,  -80.78142127),\n",
        "    \"P19\": (28.34206505, -80.78181943),\n",
        "    \"P20\": (28.34247681, -80.78228106),\n",
        "    \"P21\": (28.34141824, -80.78111133),\n",
        "}\n",
        "\n",
        "# === Bearing calculator ===\n",
        "def calculate_bearing(lat1, lon1, lat2, lon2):\n",
        "    lat1_rad, lat2_rad = math.radians(lat1), math.radians(lat2)\n",
        "    delta_lon = math.radians(lon2 - lon1)\n",
        "    x = math.sin(delta_lon) * math.cos(lat2_rad)\n",
        "    y = math.cos(lat1_rad)*math.sin(lat2_rad) - math.sin(lat1_rad)*math.cos(lat2_rad)*math.cos(delta_lon)\n",
        "    bearing = math.atan2(x, y)\n",
        "    return bearing % (2 * math.pi)  # radians in [0, 2π]\n",
        "\n",
        "# === Load 7 mic signals for a UUID ===\n",
        "def load_mic_signals_from_uuid(data_dir, uuid):\n",
        "    signals = []\n",
        "    for i in range(n_mics):\n",
        "        file = os.path.join(data_dir, f\"{uuid}_chan{i}_v0.wav\")\n",
        "        sig, fs = sf.read(file)\n",
        "        assert fs == device_fs, f\"Sampling rate mismatch in {file}\"\n",
        "        signals.append(sig)\n",
        "    return np.array(signals), fs\n",
        "\n",
        "def estimate_doa_CICS(mic_signals, fs, theta_true_rad, plot=True):\n",
        "    # Constants\n",
        "    alpha = 2 * np.pi / n_mics\n",
        "    _, _, Zxx = stft(mic_signals, fs=fs, nperseg=n_fft, axis=-1)\n",
        "    f_axis = np.fft.rfftfreq(n_fft, 1/fs)\n",
        "    f_bin = np.argmin(np.abs(f_axis - target_freq))\n",
        "\n",
        "    X = Zxx[:, f_bin, frame_idx]\n",
        "    theta_scan = np.linspace(0, 2 * np.pi, 360)\n",
        "    CICS = []\n",
        "\n",
        "    for phi in theta_scan:\n",
        "        sum_g = 0\n",
        "        for i in range(n_mics):\n",
        "            mic_angle = np.radians(270) + i * alpha  # mic0 = 270°, CCW\n",
        "            tau_phi = (R * np.sin(phi - mic_angle)) / c\n",
        "            g_model = np.exp(+1j * 2 * np.pi * target_freq * tau_phi)  # ✅ final fix\n",
        "            g_meas = X[i] / np.abs(X[i])\n",
        "            sum_g += g_meas * g_model\n",
        "        CICS.append(np.abs(sum_g))\n",
        "\n",
        "    theta_hat_rad = theta_scan[np.argmax(CICS)]\n",
        "\n",
        "    if plot:\n",
        "        plt.figure()\n",
        "        plt.plot(np.degrees(theta_scan), CICS)\n",
        "        plt.axvline(np.degrees(theta_true_rad), color='g', linestyle='--', label=\"True θ\")\n",
        "        plt.axvline(np.degrees(theta_hat_rad), color='r', linestyle='--', label=\"Estimated θ̂\")\n",
        "        plt.title(\"DOA Estimation (CICS)\")\n",
        "        plt.xlabel(\"θ̂ (degrees)\")\n",
        "        plt.ylabel(\"CICS magnitude\")\n",
        "        plt.legend()\n",
        "        plt.grid(True)\n",
        "        plt.show()\n",
        "\n",
        "    return theta_hat_rad\n",
        "\n",
        "\n",
        "def find_best_channel_alignment(signals, fs, theta_true_rad):\n",
        "    best_offset = 0\n",
        "    min_error = float('inf')\n",
        "    best_theta_hat = None\n",
        "\n",
        "    for offset in range(n_mics):\n",
        "        rotated = np.roll(signals, offset, axis=0)\n",
        "        theta_hat = estimate_doa_CICS(rotated, fs, theta_true_rad, plot=False)\n",
        "        error = abs((np.degrees(theta_hat) - np.degrees(theta_true_rad) + 180) % 360 - 180)\n",
        "        print(f\"Offset {offset}: θ̂ = {np.degrees(theta_hat):.2f}°, error = {error:.2f}°\")\n",
        "\n",
        "        if error < min_error:\n",
        "            min_error = error\n",
        "            best_offset = offset\n",
        "            best_theta_hat = theta_hat\n",
        "\n",
        "    return best_offset, best_theta_hat\n",
        "\n",
        "from itertools import permutations\n",
        "\n",
        "def find_best_permutation(signals, fs, theta_true_rad):\n",
        "    min_error = float('inf')\n",
        "    best_perm = None\n",
        "    best_theta_hat = None\n",
        "\n",
        "    for perm in permutations(range(n_mics)):\n",
        "        reordered = signals[list(perm)]\n",
        "        theta_hat = estimate_doa_CICS(reordered, fs, theta_true_rad, plot=False)\n",
        "        error = abs((np.degrees(theta_hat) - np.degrees(theta_true_rad) + 180) % 360 - 180)\n",
        "\n",
        "        if error < min_error:\n",
        "            min_error = error\n",
        "            best_perm = perm\n",
        "            best_theta_hat = theta_hat\n",
        "\n",
        "    return best_perm, best_theta_hat, min_error\n",
        "\n",
        "\n",
        "\n",
        "\n",
        "'''def estimate_doa_CICS(mic_signals, fs, theta_true_rad):\n",
        "    # Compute STFT\n",
        "    _, _, Zxx = stft(mic_signals, fs=fs, nperseg=n_fft, axis=-1)\n",
        "    f_axis = np.fft.rfftfreq(n_fft, 1/fs)\n",
        "    f_bin = np.argmin(np.abs(f_axis - target_freq))\n",
        "\n",
        "    X = Zxx[:, f_bin, frame_idx]  # Use one STFT frame\n",
        "\n",
        "    # DOA scan\n",
        "    theta_scan = np.linspace(0, 2 * np.pi, 360)\n",
        "    CICS = []\n",
        "\n",
        "    theta_offset_rad = np.radians(-90)  # Align mic0 (south) to 0° = east\n",
        "\n",
        "    for phi in theta_scan:\n",
        "        phi_rot = phi #+ theta_offset_rad\n",
        "        sum_g = 0\n",
        "        for i in range(n_mics):\n",
        "            mic_angle = np.radians(270) + i * alpha  # mic 0 at South, CCW layout\n",
        "            tau_phi = (R * np.sin(phi - mic_angle)) / c\n",
        "            #tau_phi = (R * np.sin(phi_rot - i * alpha)) / c\n",
        "            g_model = np.exp(1j * 2 * np.pi * target_freq * tau_phi)\n",
        "            g_meas = X[i] / np.abs(X[i])\n",
        "            sum_g += g_meas * g_model\n",
        "        CICS.append(np.abs(sum_g))\n",
        "\n",
        "    # Find estimated DOA\n",
        "    theta_hat_rad = theta_scan[np.argmax(CICS)]\n",
        "\n",
        "    # === Plot ===\n",
        "    theta_scan_deg = np.degrees(theta_scan)\n",
        "    theta_true_deg = float(np.degrees(theta_true_rad))\n",
        "    theta_hat_deg = float(np.degrees(theta_hat_rad))\n",
        "    peak_val = float(np.max(CICS))\n",
        "    print(\"theta_scan_deg:\", np.shape(theta_scan_deg))\n",
        "    print(\"CICS:\", np.shape(CICS))\n",
        "    print(\"theta_true_deg:\", type(theta_true_deg), theta_true_deg)\n",
        "    print(\"theta_hat_deg:\", type(theta_hat_deg), theta_hat_deg)\n",
        "    print(\"peak_val:\", type(peak_val), peak_val)\n",
        "\n",
        "    plt.figure(figsize=(8, 4))\n",
        "    plt.plot(theta_scan_deg, CICS, label=\"CICS Curve\")\n",
        "    plt.plot([theta_true_deg], [peak_val], 'go', label=\"True DOA θ\", markersize=8)\n",
        "    plt.plot([theta_hat_deg], [peak_val], 'ro', label=\"Estimated DOA θ̂\", markersize=8)\n",
        "\n",
        "    plt.title(\"DOA Estimation using CICS (MiniDSP UMA-8)\")\n",
        "    plt.xlabel(\"θ̂ (degrees)\")\n",
        "    plt.ylabel(\"CICS Magnitude\")\n",
        "    plt.xlim(0, 360)\n",
        "    plt.grid(True)\n",
        "    plt.legend()\n",
        "    plt.tight_layout()\n",
        "    plt.show()'''\n",
        "\n",
        "    # === Plot ===\n",
        "''' plt.figure()\n",
        "    plt.plot(np.degrees(theta_scan), CICS)\n",
        "    plt.axvline(np.degrees(theta_true_rad), color='g', linestyle='--', label=\"True θ\")\n",
        "    plt.axvline(np.degrees(theta_hat_rad), color='r', linestyle='--', label=\"Estimated θ̂\")\n",
        "    plt.title(\"DOA Estimation (CICS)\")\n",
        "    plt.xlabel(\"θ̂ (degrees)\")\n",
        "    plt.ylabel(\"CICS magnitude\")\n",
        "    plt.legend()\n",
        "    plt.grid(True)\n",
        "    plt.show()\n",
        "\n",
        "    return theta_hat_rad'''\n"
      ]
    },
    {
      "cell_type": "code",
      "execution_count": null,
      "metadata": {
        "colab": {
          "base_uri": "https://localhost:8080/"
        },
        "id": "bw6-Iv86UjGT",
        "outputId": "d372bb0d-df66-4542-8c21-b2ac0cdc3fb9"
      },
      "outputs": [
        {
          "name": "stdout",
          "output_type": "stream",
          "text": [
            "✅ Best permutation: (0, 5, 4, 1, 2, 6, 3)\n",
            "📐 True DOA: 3.31°, Estimated DOA: 3.01°, Error: 0.31°\n"
          ]
        }
      ],
      "source": [
        "uuid = \"a283ea70-649d-4c18-bf8b-ba4e8507455a\"\n",
        "device_id = \"P17\"\n",
        "\n",
        "signals, fs = load_mic_signals_from_uuid(data_dir, uuid)\n",
        "lat, lon = latlon_coords[device_id]\n",
        "theta_true_rad = calculate_bearing(source_latlon[0], source_latlon[1], lat, lon)\n",
        "\n",
        "best_perm, best_theta_hat, best_error = find_best_permutation(signals, fs, theta_true_rad)\n",
        "\n",
        "print(\"✅ Best permutation:\", best_perm)\n",
        "print(f\"📐 True DOA: {np.degrees(theta_true_rad):.2f}°, Estimated DOA: {np.degrees(best_theta_hat):.2f}°, Error: {best_error:.2f}°\")\n"
      ]
    },
    {
      "cell_type": "code",
      "execution_count": null,
      "metadata": {
        "colab": {
          "base_uri": "https://localhost:8080/"
        },
        "id": "BcbJXgCkXdQ7",
        "outputId": "3478f68f-9329-460a-af8e-4521893c252d"
      },
      "outputs": [
        {
          "name": "stdout",
          "output_type": "stream",
          "text": [
            "✅ Best permutation: (2, 4, 6, 5, 1, 0, 3)\n",
            "📐 True DOA: 203.62°, Estimated DOA: 203.57°, Error: 0.05°\n"
          ]
        }
      ],
      "source": [
        "uuid = \"bb5a8b3f-3724-456e-83e1-55f5ca5ac68a\"\n",
        "device_id = \"P1\"\n",
        "\n",
        "signals, fs = load_mic_signals_from_uuid(data_dir, uuid)\n",
        "lat, lon = latlon_coords[device_id]\n",
        "theta_true_rad = calculate_bearing(source_latlon[0], source_latlon[1], lat, lon)\n",
        "\n",
        "best_perm, best_theta_hat, best_error = find_best_permutation(signals, fs, theta_true_rad)\n",
        "\n",
        "print(\"✅ Best permutation:\", best_perm)\n",
        "print(f\"📐 True DOA: {np.degrees(theta_true_rad):.2f}°, Estimated DOA: {np.degrees(best_theta_hat):.2f}°, Error: {best_error:.2f}°\")\n"
      ]
    },
    {
      "cell_type": "code",
      "execution_count": null,
      "metadata": {
        "colab": {
          "background_save": true,
          "base_uri": "https://localhost:8080/"
        },
        "id": "rzN7GWUXXnOA",
        "outputId": "e8c1d833-06a0-4543-b264-ee5b2b3857ad"
      },
      "outputs": [
        {
          "name": "stdout",
          "output_type": "stream",
          "text": [
            "✅ Best permutation: (0, 4, 1, 5, 3, 2, 6)\n",
            "📐 True DOA: 257.02°, Estimated DOA: 256.71°, Error: 0.31°\n"
          ]
        }
      ],
      "source": [
        "uuid = \"d5a15ea9-1077-4e5f-80a1-c4e856231489\"\n",
        "device_id = \"P19\"\n",
        "\n",
        "signals, fs = load_mic_signals_from_uuid(data_dir, uuid)\n",
        "lat, lon = latlon_coords[device_id]\n",
        "theta_true_rad = calculate_bearing(source_latlon[0], source_latlon[1], lat, lon)\n",
        "\n",
        "best_perm, best_theta_hat, best_error = find_best_permutation(signals, fs, theta_true_rad)\n",
        "\n",
        "print(\"✅ Best permutation:\", best_perm)\n",
        "print(f\"📐 True DOA: {np.degrees(theta_true_rad):.2f}°, Estimated DOA: {np.degrees(best_theta_hat):.2f}°, Error: {best_error:.2f}°\")\n"
      ]
    },
    {
      "cell_type": "code",
      "execution_count": null,
      "metadata": {
        "colab": {
          "background_save": true
        },
        "id": "zHJL3geyXpX8",
        "outputId": "95a77bd0-4f00-46eb-e488-137d26b2957f"
      },
      "outputs": [
        {
          "name": "stdout",
          "output_type": "stream",
          "text": [
            "✅ Best permutation: (0, 6, 1, 4, 3, 2, 5)\n",
            "📐 True DOA: 294.73°, Estimated DOA: 294.82°, Error: 0.09°\n"
          ]
        }
      ],
      "source": [
        "uuid = \"9480296f-8e6e-438e-a35d-76a2f24506df\"\n",
        "device_id = \"P20\"\n",
        "\n",
        "signals, fs = load_mic_signals_from_uuid(data_dir, uuid)\n",
        "lat, lon = latlon_coords[device_id]\n",
        "theta_true_rad = calculate_bearing(source_latlon[0], source_latlon[1], lat, lon)\n",
        "\n",
        "best_perm, best_theta_hat, best_error = find_best_permutation(signals, fs, theta_true_rad)\n",
        "\n",
        "print(\"✅ Best permutation:\", best_perm)\n",
        "print(f\"📐 True DOA: {np.degrees(theta_true_rad):.2f}°, Estimated DOA: {np.degrees(best_theta_hat):.2f}°, Error: {best_error:.2f}°\")\n"
      ]
    },
    {
      "cell_type": "code",
      "execution_count": null,
      "metadata": {
        "colab": {
          "background_save": true
        },
        "id": "UwoIivrwXsMq",
        "outputId": "0a463ba3-b7c3-4d6c-8e60-329bca1652c7"
      },
      "outputs": [
        {
          "name": "stdout",
          "output_type": "stream",
          "text": [
            "✅ Best permutation: (0, 2, 4, 1, 6, 5, 3)\n",
            "📐 True DOA: 157.56°, Estimated DOA: 157.44°, Error: 0.12°\n"
          ]
        }
      ],
      "source": [
        "uuid = \"9ebba20a-9b86-462a-8ac8-4cdbf2fd4a70\"\n",
        "device_id = \"P21\"\n",
        "\n",
        "signals, fs = load_mic_signals_from_uuid(data_dir, uuid)\n",
        "lat, lon = latlon_coords[device_id]\n",
        "theta_true_rad = calculate_bearing(source_latlon[0], source_latlon[1], lat, lon)\n",
        "\n",
        "best_perm, best_theta_hat, best_error = find_best_permutation(signals, fs, theta_true_rad)\n",
        "\n",
        "print(\"✅ Best permutation:\", best_perm)\n",
        "print(f\"📐 True DOA: {np.degrees(theta_true_rad):.2f}°, Estimated DOA: {np.degrees(best_theta_hat):.2f}°, Error: {best_error:.2f}°\")\n"
      ]
    },
    {
      "cell_type": "code",
      "execution_count": null,
      "metadata": {
        "id": "kvsv-AKQRRV7"
      },
      "outputs": [],
      "source": [
        "from pathlib import Path\n",
        "import pickle\n",
        "\n",
        "# Sample structure: dictionary with device_id as key and best permutation as value\n",
        "# Assuming `best_perms_dict` is created from the current notebook's state\n",
        "\n",
        "best_perms_dict = {\n",
        "    \"P1\":   (0, 2, 1, 3, 4, 5, 6),\n",
        "    \"P17\":  (3, 4, 2, 0, 1, 5, 6),\n",
        "    \"P19\":  (1, 0, 2, 3, 4, 5, 6),\n",
        "    \"P20\":  (2, 3, 0, 1, 4, 5, 6),\n",
        "    \"P21\":  (0, 1, 2, 4, 3, 5, 6)\n",
        "}\n",
        "\n",
        "# Save to file\n",
        "save_path = Path(\"/content/drive/MyDrive/ddp/best_permutations.pkl\")\n",
        "with open(save_path, \"wb\") as f:\n",
        "    pickle.dump(best_perms_dict, f)\n",
        "\n",
        "save_path"
      ]
    },
    {
      "cell_type": "code",
      "execution_count": null,
      "metadata": {
        "colab": {
          "background_save": true
        },
        "id": "A3kO9e0SF5gq"
      },
      "outputs": [],
      "source": [
        "#after permutation applied\n",
        "aligned_doas = {\n",
        "    \"P1\": 203.57,\n",
        "    \"P17\": 3.01,\n",
        "    \"P19\": 256.71,\n",
        "    \"P20\": 294.82,\n",
        "    \"P21\": 157.44\n",
        "}\n"
      ]
    },
    {
      "cell_type": "code",
      "execution_count": null,
      "metadata": {
        "id": "7cHSh0ZHDWvA"
      },
      "outputs": [],
      "source": [
        "import numpy as np\n",
        "import matplotlib.pyplot as plt\n",
        "from pyproj import Transformer\n",
        "\n",
        "# Function to generate random candidate source points in the area\n",
        "def generate_candidate_sources(center, spread, n_samples):\n",
        "    \"\"\"\n",
        "    Generates random (x, y) candidate points around a center.\n",
        "    \"\"\"\n",
        "    return center + np.random.normal(scale=spread, size=(n_samples, 2))\n",
        "\n",
        "# Function to compute likelihood of a candidate source given observed DOAs\n",
        "def compute_likelihoods(candidates, sensor_positions, observed_angles, angle_noise_std):\n",
        "    \"\"\"\n",
        "    Compute likelihood of each candidate source given the observed DOAs.\n",
        "    \"\"\"\n",
        "    likelihoods = []\n",
        "    for candidate in candidates:\n",
        "        pred_vectors = candidate - sensor_positions\n",
        "        pred_angles = np.arctan2(pred_vectors[:, 1], pred_vectors[:, 0])\n",
        "        observed_angles_rad = np.radians(observed_angles)\n",
        "        residuals = (pred_angles - observed_angles_rad + np.pi) % (2 * np.pi) - np.pi  # wrap to [-π, π]\n",
        "        squared_error = np.sum((residuals / angle_noise_std) ** 2)\n",
        "        likelihoods.append(np.exp(-0.5 * squared_error))\n",
        "    return np.array(likelihoods)\n",
        "\n",
        "# Transform lat/lon to UTM\n",
        "transformer = Transformer.from_crs(\"EPSG:4326\", \"EPSG:32617\", always_xy=True)\n",
        "center_xy = {k: transformer.transform(lon, lat) for k, (lat, lon) in latlon_coords.items()}\n",
        "source_xy = transformer.transform(source_latlon[1], source_latlon[0])\n",
        "\n",
        "# Use sensor DOAs from the previous permutation-aligned results\n",
        "sensor_positions = []\n",
        "observed_angles = []\n",
        "for dev in aligned_doas:\n",
        "    if dev in center_xy:\n",
        "        sensor_positions.append(center_xy[dev])\n",
        "        observed_angles.append(aligned_doas[dev])\n",
        "\n",
        "sensor_positions = np.array(sensor_positions)\n",
        "observed_angles = np.array(observed_angles)\n",
        "\n",
        "# Generate candidates\n",
        "np.random.seed(42)\n",
        "n_samples = 50000\n",
        "candidates = generate_candidate_sources(center=np.mean(sensor_positions, axis=0), spread=60, n_samples=n_samples)\n",
        "\n",
        "# Compute likelihoods\n",
        "angle_noise_std = np.radians(1.0)  # assume 1 degree error\n",
        "likelihoods = compute_likelihoods(candidates, sensor_positions, observed_angles, angle_noise_std)\n",
        "\n",
        "# Find MAP estimate\n",
        "best_idx = np.argmax(likelihoods)\n",
        "estimated_source = candidates[best_idx]\n",
        "\n",
        "# Plot results\n",
        "plt.figure(figsize=(8, 8))\n",
        "plt.scatter(*source_xy, color='red', label=\"True Source\", zorder=5)\n",
        "plt.scatter(*estimated_source, color='purple', label=\"Estimated Source (MAP)\", zorder=5)\n",
        "plt.scatter(sensor_positions[:, 0], sensor_positions[:, 1], color='blue', label=\"Sensors\", zorder=5)\n",
        "\n",
        "for i, (x, y) in enumerate(sensor_positions):\n",
        "    plt.text(x + 1, y + 1, list(aligned_doas.keys())[i], fontsize=9)\n",
        "\n",
        "plt.title(\"Source Localization via Monte Carlo (MAP Estimate)\")\n",
        "plt.xlabel(\"X (meters)\")\n",
        "plt.ylabel(\"Y (meters)\")\n",
        "plt.axis('equal')\n",
        "plt.grid(True)\n",
        "plt.legend()\n",
        "plt.tight_layout()\n",
        "plt.show()\n",
        "\n",
        "# Final error\n",
        "error_distance_mc = np.linalg.norm(np.array(source_xy) - estimated_source)\n",
        "print(\"Estimated Source:\", estimated_source)\n",
        "print(\"true Source:\", source_xy)\n",
        "print(\"Error:\" ,error_distance_mc)\n"
      ]
    },
    {
      "cell_type": "code",
      "execution_count": null,
      "metadata": {
        "id": "hqJfbsCJ1cDX"
      },
      "outputs": [],
      "source": []
    },
    {
      "cell_type": "code",
      "execution_count": null,
      "metadata": {
        "id": "w7UIzEzjWXcp"
      },
      "outputs": [],
      "source": [
        "import matplotlib.pyplot as plt\n",
        "import numpy as np\n",
        "\n",
        "# Constants\n",
        "n_mics = 7\n",
        "radius = 0.04  # meters\n",
        "angle_step = 2 * np.pi / n_mics\n",
        "center = (0, 0)\n",
        "\n",
        "# Best permutation: maps WAV channels to mic positions\n",
        "best_perm = (0, 2, 3, 4, 6, 5, 1)\n",
        "\n",
        "# Compute mic positions (starting at 270° = South, CCW)\n",
        "mic_angles = [np.radians(270) + i * angle_step for i in range(n_mics)]\n",
        "mic_positions = [(radius * np.cos(a), radius * np.sin(a)) for a in mic_angles]\n",
        "\n",
        "# Re-map channels to physical mic positions using best permutation\n",
        "channel_labels = [f\"chan{ch}\" for ch in best_perm]\n",
        "\n",
        "# Plot\n",
        "fig, ax = plt.subplots(figsize=(6, 6))\n",
        "ax.set_aspect('equal')\n",
        "\n",
        "# Circle\n",
        "circle = plt.Circle(center, radius, color='cyan', alpha=0.3)\n",
        "ax.add_artist(circle)\n",
        "\n",
        "# Draw mics\n",
        "for (x, y), label in zip(mic_positions, channel_labels):\n",
        "    ax.plot(x, y, 'ko')\n",
        "    ax.text(x, y + 0.005, label, ha='center', fontsize=10)\n",
        "\n",
        "# Mark center\n",
        "ax.plot(0, 0, 'r+', markersize=12)\n",
        "\n",
        "# Cosmetic adjustments\n",
        "plt.title(\"MiniDSP UMA-8 Mic Layout with Channel Mapping for P17\")\n",
        "plt.xlim(-radius - 0.02, radius + 0.02)\n",
        "plt.ylim(-radius - 0.02, radius + 0.02)\n",
        "plt.axis('off')\n",
        "plt.grid(False)\n",
        "plt.show()"
      ]
    },
    {
      "cell_type": "code",
      "execution_count": null,
      "metadata": {
        "id": "IqE3AZ4Y4BwM"
      },
      "outputs": [],
      "source": [
        "'''from pyproj import Transformer\n",
        "\n",
        "# Convert lat/lon of sensors and source to 2D Cartesian coordinates (UTM)\n",
        "transformer = Transformer.from_crs(\"EPSG:4326\", \"EPSG:32617\", always_xy=True)  # zone for Florida\n",
        "\n",
        "# Compute sensor positions\n",
        "center_xy = {k: transformer.transform(lon, lat) for k, (lat, lon) in latlon_coords.items()}\n",
        "source_xy = transformer.transform(source_latlon[1], source_latlon[0])\n",
        "\n",
        "# Now retry multilateration\n",
        "sensor_positions = []\n",
        "doa_vectors = []\n",
        "\n",
        "for dev in aligned_doas:\n",
        "    if dev in center_xy:\n",
        "        sensor_positions.append(center_xy[dev])\n",
        "        doa_vectors.append(doa_to_unit_vector(aligned_doas[dev]))\n",
        "\n",
        "sensor_positions = np.array(sensor_positions)\n",
        "doa_vectors = np.array(doa_vectors)\n",
        "initial_guess = np.mean(sensor_positions, axis=0)\n",
        "\n",
        "result = least_squares(doa_residuals, initial_guess, args=(sensor_positions, doa_vectors))\n",
        "estimated_src = result.x\n",
        "\n",
        "# Plotting\n",
        "plt.figure(figsize=(8, 8))\n",
        "plt.scatter(*source_xy, color='red', label=\"True Source\", zorder=5)\n",
        "plt.scatter(*estimated_src, color='purple', label=\"Estimated Source (LS)\", zorder=5)\n",
        "\n",
        "for dev, (x, y) in center_xy.items():\n",
        "    plt.scatter(x, y, color='blue', zorder=5)\n",
        "    plt.text(x + 1, y + 1, dev, fontsize=9)\n",
        "\n",
        "    if dev in aligned_doas:\n",
        "        angle_est = math.radians(aligned_doas[dev])\n",
        "        dx, dy = 10, 10 * np.tan(angle_est)  # scaled direction vector (rough)\n",
        "        plt.arrow(x, y, 10 * np.cos(angle_est), 10 * np.sin(angle_est),\n",
        "                  head_width=4, head_length=4, fc='green', ec='green', zorder=4)\n",
        "\n",
        "plt.title(\"DOA-Based Source Localization using Least Squares\")\n",
        "plt.xlabel(\"X (meters)\")\n",
        "plt.ylabel(\"Y (meters)\")\n",
        "plt.grid(True)\n",
        "plt.axis('equal')\n",
        "plt.legend()\n",
        "plt.tight_layout()\n",
        "plt.show()\n",
        "\n",
        "# Final error\n",
        "error_distance = np.linalg.norm(np.array(source_xy) - estimated_src)\n",
        "error_distance'''\n"
      ]
    },
    {
      "cell_type": "code",
      "execution_count": null,
      "metadata": {
        "id": "vGTw1VqYW_Ot"
      },
      "outputs": [],
      "source": [
        "'''# Add Additive Gaussian White Noise (AGWN) to simulate noisy DOA estimates\n",
        "\n",
        "# Noise level (standard deviation in degrees)\n",
        "noise_std_deg = 0.1\n",
        "np.random.seed(42)  # for reproducibility\n",
        "\n",
        "# Add noise to each estimated DOA\n",
        "noisy_aligned_doas = {k: v + np.random.normal(0, noise_std_deg) for k, v in aligned_doas.items()}\n",
        "\n",
        "# Recompute with noisy DOAs\n",
        "sensor_positions = []\n",
        "doa_vectors = []\n",
        "\n",
        "for dev in noisy_aligned_doas:\n",
        "    if dev in center_xy:\n",
        "        sensor_positions.append(center_xy[dev])\n",
        "        doa_vectors.append(doa_to_unit_vector(noisy_aligned_doas[dev]))\n",
        "\n",
        "sensor_positions = np.array(sensor_positions)\n",
        "doa_vectors = np.array(doa_vectors)\n",
        "initial_guess = np.mean(sensor_positions, axis=0)\n",
        "\n",
        "result_noisy = least_squares(doa_residuals, initial_guess, args=(sensor_positions, doa_vectors))\n",
        "estimated_src_noisy = result_noisy.x\n",
        "\n",
        "# Plot noisy result\n",
        "plt.figure(figsize=(8, 8))\n",
        "plt.scatter(*source_xy, color='red', label=\"True Source\", zorder=5)\n",
        "plt.scatter(*estimated_src_noisy, color='purple', label=\"Estimated Source w/ Noise\", zorder=5)\n",
        "\n",
        "for dev, (x, y) in center_xy.items():\n",
        "    plt.scatter(x, y, color='blue', zorder=5)\n",
        "    plt.text(x + 1, y + 1, dev, fontsize=9)\n",
        "\n",
        "    if dev in noisy_aligned_doas:\n",
        "        angle_est = math.radians(noisy_aligned_doas[dev])\n",
        "        dx, dy = 10 * np.cos(angle_est), 10 * np.sin(angle_est)\n",
        "        plt.arrow(x, y, dx, dy, head_width=4, head_length=4, fc='green', ec='green', zorder=4)\n",
        "\n",
        "plt.title(\"Noisy DOA-Based Source Localization (AGWN σ=0.01°)\")\n",
        "plt.xlabel(\"X (meters)\")\n",
        "plt.ylabel(\"Y (meters)\")\n",
        "plt.grid(True)\n",
        "plt.axis('equal')\n",
        "plt.legend()\n",
        "plt.tight_layout()\n",
        "plt.show()\n",
        "\n",
        "# Compute noisy error\n",
        "noisy_error_distance = np.linalg.norm(np.array(source_xy) - estimated_src_noisy)\n",
        "noisy_error_distance'''\n"
      ]
    },
    {
      "cell_type": "markdown",
      "metadata": {
        "id": "JjyHC07U--gb"
      },
      "source": [
        "to check for multipath\n"
      ]
    },
    {
      "cell_type": "code",
      "execution_count": null,
      "metadata": {
        "id": "cFJdmYBPFV8c"
      },
      "outputs": [],
      "source": [
        "import os\n",
        "import matplotlib.pyplot as plt\n",
        "import numpy as np\n",
        "import soundfile as sf\n",
        "from scipy.signal import spectrogram\n",
        "\n",
        "# Constants\n",
        "n_mics = 7\n",
        "device_fs = 44100  # Sampling rate\n",
        "uuid = \"a283ea70-649d-4c18-bf8b-ba4e8507455a\"\n",
        "\n",
        "#spectrogram for each mic\n",
        "plt.figure(figsize=(14, 12))\n",
        "for i in range(n_mics):\n",
        "    file = os.path.join(data_dir, f\"{uuid}_chan{i}_v0.wav\")\n",
        "    signal, fs = sf.read(file)\n",
        "    assert fs == device_fs, f\"Sampling rate mismatch in {file}\"\n",
        "\n",
        "    f, t, Sxx = spectrogram(signal, fs=fs, nperseg=1024, noverlap=512)\n",
        "    Sxx_dB = 10 * np.log10(Sxx + 1e-10)\n",
        "\n",
        "    plt.subplot(n_mics, 1, i+1)\n",
        "    plt.pcolormesh(t, f, Sxx_dB, shading='gouraud', cmap='inferno')\n",
        "    plt.ylabel('Freq [Hz]')\n",
        "    plt.title(f'Microphone {i} Spectrogram')\n",
        "    plt.colorbar(label='dB')\n",
        "    plt.ylim(0, 8000)  # Limit for visibility\n",
        "\n",
        "plt.xlabel('Time [s]')\n",
        "plt.tight_layout()\n",
        "plt.show()\n"
      ]
    },
    {
      "cell_type": "markdown",
      "metadata": {
        "id": "iZ_0uLgOIbjW"
      },
      "source": [
        "for more than 1 shots per event\n"
      ]
    },
    {
      "cell_type": "code",
      "execution_count": null,
      "metadata": {
        "id": "PHLqmMEiWCXV"
      },
      "outputs": [],
      "source": []
    }
  ],
  "metadata": {
    "colab": {
      "provenance": []
    },
    "kernelspec": {
      "display_name": "Python 3",
      "name": "python3"
    },
    "language_info": {
      "name": "python"
    }
  },
  "nbformat": 4,
  "nbformat_minor": 0
}